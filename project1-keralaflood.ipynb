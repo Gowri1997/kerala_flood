{
 "cells": [
  {
   "cell_type": "code",
   "execution_count": 1,
   "id": "f74d57ab",
   "metadata": {},
   "outputs": [],
   "source": [
    "import pandas as pd\n",
    "import matplotlib.pyplot as plt\n",
    "%matplotlib inline\n",
    "import seaborn as sn\n",
    "from sklearn.cluster import KMeans\n",
    "from sklearn.preprocessing import MinMaxScaler\n",
    "flood=pd.read_csv(r\"D:\\datas\\project1\\district_wise_details.csv\")"
   ]
  },
  {
   "cell_type": "code",
   "execution_count": 2,
   "id": "18610791",
   "metadata": {},
   "outputs": [
    {
     "data": {
      "text/html": [
       "<div>\n",
       "<style scoped>\n",
       "    .dataframe tbody tr th:only-of-type {\n",
       "        vertical-align: middle;\n",
       "    }\n",
       "\n",
       "    .dataframe tbody tr th {\n",
       "        vertical-align: top;\n",
       "    }\n",
       "\n",
       "    .dataframe thead th {\n",
       "        text-align: right;\n",
       "    }\n",
       "</style>\n",
       "<table border=\"1\" class=\"dataframe\">\n",
       "  <thead>\n",
       "    <tr style=\"text-align: right;\">\n",
       "      <th></th>\n",
       "      <th>district</th>\n",
       "      <th>fatalities</th>\n",
       "      <th>no_of_camps</th>\n",
       "      <th>actual_rainfall_in_mm</th>\n",
       "      <th>normal_rainfall_in_mm</th>\n",
       "      <th>no_of_landslides</th>\n",
       "      <th>full_damaged_houses</th>\n",
       "    </tr>\n",
       "  </thead>\n",
       "  <tbody>\n",
       "    <tr>\n",
       "      <th>0</th>\n",
       "      <td>Thiruvananthapuram</td>\n",
       "      <td>11</td>\n",
       "      <td>94</td>\n",
       "      <td>373.8</td>\n",
       "      <td>142.0</td>\n",
       "      <td>0</td>\n",
       "      <td>111</td>\n",
       "    </tr>\n",
       "    <tr>\n",
       "      <th>1</th>\n",
       "      <td>Kollam</td>\n",
       "      <td>5</td>\n",
       "      <td>168</td>\n",
       "      <td>644.1</td>\n",
       "      <td>258.7</td>\n",
       "      <td>2</td>\n",
       "      <td>95</td>\n",
       "    </tr>\n",
       "    <tr>\n",
       "      <th>2</th>\n",
       "      <td>Pathanamthitta</td>\n",
       "      <td>3</td>\n",
       "      <td>4352</td>\n",
       "      <td>764.9</td>\n",
       "      <td>352.7</td>\n",
       "      <td>8</td>\n",
       "      <td>741</td>\n",
       "    </tr>\n",
       "    <tr>\n",
       "      <th>3</th>\n",
       "      <td>Alappuzha</td>\n",
       "      <td>43</td>\n",
       "      <td>2126</td>\n",
       "      <td>608.2</td>\n",
       "      <td>343.1</td>\n",
       "      <td>0</td>\n",
       "      <td>2075</td>\n",
       "    </tr>\n",
       "    <tr>\n",
       "      <th>4</th>\n",
       "      <td>Kottayam</td>\n",
       "      <td>14</td>\n",
       "      <td>788</td>\n",
       "      <td>619.2</td>\n",
       "      <td>386.0</td>\n",
       "      <td>29</td>\n",
       "      <td>76</td>\n",
       "    </tr>\n",
       "    <tr>\n",
       "      <th>5</th>\n",
       "      <td>Idukki</td>\n",
       "      <td>54</td>\n",
       "      <td>363</td>\n",
       "      <td>1478.9</td>\n",
       "      <td>527.3</td>\n",
       "      <td>143</td>\n",
       "      <td>1166</td>\n",
       "    </tr>\n",
       "    <tr>\n",
       "      <th>6</th>\n",
       "      <td>Ernakulam</td>\n",
       "      <td>58</td>\n",
       "      <td>1582</td>\n",
       "      <td>648.3</td>\n",
       "      <td>401.3</td>\n",
       "      <td>0</td>\n",
       "      <td>615</td>\n",
       "    </tr>\n",
       "    <tr>\n",
       "      <th>7</th>\n",
       "      <td>Thrissur</td>\n",
       "      <td>72</td>\n",
       "      <td>1513</td>\n",
       "      <td>734.7</td>\n",
       "      <td>440.1</td>\n",
       "      <td>26</td>\n",
       "      <td>2889</td>\n",
       "    </tr>\n",
       "    <tr>\n",
       "      <th>8</th>\n",
       "      <td>Palakkad</td>\n",
       "      <td>20</td>\n",
       "      <td>165</td>\n",
       "      <td>848.8</td>\n",
       "      <td>333.8</td>\n",
       "      <td>20</td>\n",
       "      <td>1118</td>\n",
       "    </tr>\n",
       "    <tr>\n",
       "      <th>9</th>\n",
       "      <td>Malappuram</td>\n",
       "      <td>30</td>\n",
       "      <td>213</td>\n",
       "      <td>913.7</td>\n",
       "      <td>395.3</td>\n",
       "      <td>30</td>\n",
       "      <td>500</td>\n",
       "    </tr>\n",
       "    <tr>\n",
       "      <th>10</th>\n",
       "      <td>Kozhikode</td>\n",
       "      <td>16</td>\n",
       "      <td>399</td>\n",
       "      <td>836.0</td>\n",
       "      <td>500.9</td>\n",
       "      <td>9</td>\n",
       "      <td>107</td>\n",
       "    </tr>\n",
       "    <tr>\n",
       "      <th>11</th>\n",
       "      <td>Wayanad</td>\n",
       "      <td>6</td>\n",
       "      <td>451</td>\n",
       "      <td>1053.5</td>\n",
       "      <td>592.9</td>\n",
       "      <td>47</td>\n",
       "      <td>702</td>\n",
       "    </tr>\n",
       "    <tr>\n",
       "      <th>12</th>\n",
       "      <td>Kannur</td>\n",
       "      <td>6</td>\n",
       "      <td>37</td>\n",
       "      <td>665.3</td>\n",
       "      <td>540.9</td>\n",
       "      <td>17</td>\n",
       "      <td>121</td>\n",
       "    </tr>\n",
       "    <tr>\n",
       "      <th>13</th>\n",
       "      <td>Kasaragode</td>\n",
       "      <td>1</td>\n",
       "      <td>2</td>\n",
       "      <td>636.9</td>\n",
       "      <td>636.3</td>\n",
       "      <td>0</td>\n",
       "      <td>3</td>\n",
       "    </tr>\n",
       "  </tbody>\n",
       "</table>\n",
       "</div>"
      ],
      "text/plain": [
       "              district  fatalities  no_of_camps  actual_rainfall_in_mm  \\\n",
       "0   Thiruvananthapuram          11           94                  373.8   \n",
       "1               Kollam           5          168                  644.1   \n",
       "2       Pathanamthitta           3         4352                  764.9   \n",
       "3            Alappuzha          43         2126                  608.2   \n",
       "4             Kottayam          14          788                  619.2   \n",
       "5               Idukki          54          363                 1478.9   \n",
       "6            Ernakulam          58         1582                  648.3   \n",
       "7             Thrissur          72         1513                  734.7   \n",
       "8             Palakkad          20          165                  848.8   \n",
       "9           Malappuram          30          213                  913.7   \n",
       "10           Kozhikode          16          399                  836.0   \n",
       "11             Wayanad           6          451                 1053.5   \n",
       "12              Kannur           6           37                  665.3   \n",
       "13          Kasaragode           1            2                  636.9   \n",
       "\n",
       "    normal_rainfall_in_mm  no_of_landslides  full_damaged_houses  \n",
       "0                   142.0                 0                  111  \n",
       "1                   258.7                 2                   95  \n",
       "2                   352.7                 8                  741  \n",
       "3                   343.1                 0                 2075  \n",
       "4                   386.0                29                   76  \n",
       "5                   527.3               143                 1166  \n",
       "6                   401.3                 0                  615  \n",
       "7                   440.1                26                 2889  \n",
       "8                   333.8                20                 1118  \n",
       "9                   395.3                30                  500  \n",
       "10                  500.9                 9                  107  \n",
       "11                  592.9                47                  702  \n",
       "12                  540.9                17                  121  \n",
       "13                  636.3                 0                    3  "
      ]
     },
     "execution_count": 2,
     "metadata": {},
     "output_type": "execute_result"
    }
   ],
   "source": [
    "flood"
   ]
  },
  {
   "cell_type": "code",
   "execution_count": 3,
   "id": "1d648c41",
   "metadata": {},
   "outputs": [
    {
     "name": "stdout",
     "output_type": "stream",
     "text": [
      "<class 'pandas.core.frame.DataFrame'>\n",
      "RangeIndex: 14 entries, 0 to 13\n",
      "Data columns (total 7 columns):\n",
      " #   Column                 Non-Null Count  Dtype  \n",
      "---  ------                 --------------  -----  \n",
      " 0   district               14 non-null     object \n",
      " 1   fatalities             14 non-null     int64  \n",
      " 2   no_of_camps            14 non-null     int64  \n",
      " 3   actual_rainfall_in_mm  14 non-null     float64\n",
      " 4   normal_rainfall_in_mm  14 non-null     float64\n",
      " 5   no_of_landslides       14 non-null     int64  \n",
      " 6   full_damaged_houses    14 non-null     int64  \n",
      "dtypes: float64(2), int64(4), object(1)\n",
      "memory usage: 912.0+ bytes\n"
     ]
    }
   ],
   "source": [
    "flood.info()"
   ]
  },
  {
   "cell_type": "code",
   "execution_count": 4,
   "id": "cf07b578",
   "metadata": {},
   "outputs": [
    {
     "data": {
      "text/html": [
       "<div>\n",
       "<style scoped>\n",
       "    .dataframe tbody tr th:only-of-type {\n",
       "        vertical-align: middle;\n",
       "    }\n",
       "\n",
       "    .dataframe tbody tr th {\n",
       "        vertical-align: top;\n",
       "    }\n",
       "\n",
       "    .dataframe thead th {\n",
       "        text-align: right;\n",
       "    }\n",
       "</style>\n",
       "<table border=\"1\" class=\"dataframe\">\n",
       "  <thead>\n",
       "    <tr style=\"text-align: right;\">\n",
       "      <th></th>\n",
       "      <th>fatalities</th>\n",
       "      <th>no_of_camps</th>\n",
       "      <th>actual_rainfall_in_mm</th>\n",
       "      <th>normal_rainfall_in_mm</th>\n",
       "      <th>no_of_landslides</th>\n",
       "      <th>full_damaged_houses</th>\n",
       "    </tr>\n",
       "  </thead>\n",
       "  <tbody>\n",
       "    <tr>\n",
       "      <th>count</th>\n",
       "      <td>14.000000</td>\n",
       "      <td>14.000000</td>\n",
       "      <td>14.000000</td>\n",
       "      <td>14.000000</td>\n",
       "      <td>14.000000</td>\n",
       "      <td>14.000000</td>\n",
       "    </tr>\n",
       "    <tr>\n",
       "      <th>mean</th>\n",
       "      <td>24.214286</td>\n",
       "      <td>875.214286</td>\n",
       "      <td>773.307143</td>\n",
       "      <td>417.950000</td>\n",
       "      <td>23.642857</td>\n",
       "      <td>737.071429</td>\n",
       "    </tr>\n",
       "    <tr>\n",
       "      <th>std</th>\n",
       "      <td>23.344176</td>\n",
       "      <td>1201.089709</td>\n",
       "      <td>260.248297</td>\n",
       "      <td>133.874509</td>\n",
       "      <td>37.300458</td>\n",
       "      <td>849.385159</td>\n",
       "    </tr>\n",
       "    <tr>\n",
       "      <th>min</th>\n",
       "      <td>1.000000</td>\n",
       "      <td>2.000000</td>\n",
       "      <td>373.800000</td>\n",
       "      <td>142.000000</td>\n",
       "      <td>0.000000</td>\n",
       "      <td>3.000000</td>\n",
       "    </tr>\n",
       "    <tr>\n",
       "      <th>25%</th>\n",
       "      <td>6.000000</td>\n",
       "      <td>165.750000</td>\n",
       "      <td>638.700000</td>\n",
       "      <td>345.500000</td>\n",
       "      <td>0.500000</td>\n",
       "      <td>108.000000</td>\n",
       "    </tr>\n",
       "    <tr>\n",
       "      <th>50%</th>\n",
       "      <td>15.000000</td>\n",
       "      <td>381.000000</td>\n",
       "      <td>700.000000</td>\n",
       "      <td>398.300000</td>\n",
       "      <td>13.000000</td>\n",
       "      <td>557.500000</td>\n",
       "    </tr>\n",
       "    <tr>\n",
       "      <th>75%</th>\n",
       "      <td>39.750000</td>\n",
       "      <td>1331.750000</td>\n",
       "      <td>845.600000</td>\n",
       "      <td>520.700000</td>\n",
       "      <td>28.250000</td>\n",
       "      <td>1023.750000</td>\n",
       "    </tr>\n",
       "    <tr>\n",
       "      <th>max</th>\n",
       "      <td>72.000000</td>\n",
       "      <td>4352.000000</td>\n",
       "      <td>1478.900000</td>\n",
       "      <td>636.300000</td>\n",
       "      <td>143.000000</td>\n",
       "      <td>2889.000000</td>\n",
       "    </tr>\n",
       "  </tbody>\n",
       "</table>\n",
       "</div>"
      ],
      "text/plain": [
       "       fatalities  no_of_camps  actual_rainfall_in_mm  normal_rainfall_in_mm  \\\n",
       "count   14.000000    14.000000              14.000000              14.000000   \n",
       "mean    24.214286   875.214286             773.307143             417.950000   \n",
       "std     23.344176  1201.089709             260.248297             133.874509   \n",
       "min      1.000000     2.000000             373.800000             142.000000   \n",
       "25%      6.000000   165.750000             638.700000             345.500000   \n",
       "50%     15.000000   381.000000             700.000000             398.300000   \n",
       "75%     39.750000  1331.750000             845.600000             520.700000   \n",
       "max     72.000000  4352.000000            1478.900000             636.300000   \n",
       "\n",
       "       no_of_landslides  full_damaged_houses  \n",
       "count         14.000000            14.000000  \n",
       "mean          23.642857           737.071429  \n",
       "std           37.300458           849.385159  \n",
       "min            0.000000             3.000000  \n",
       "25%            0.500000           108.000000  \n",
       "50%           13.000000           557.500000  \n",
       "75%           28.250000          1023.750000  \n",
       "max          143.000000          2889.000000  "
      ]
     },
     "execution_count": 4,
     "metadata": {},
     "output_type": "execute_result"
    }
   ],
   "source": [
    "flood.describe()"
   ]
  },
  {
   "cell_type": "code",
   "execution_count": 5,
   "id": "67ed3089",
   "metadata": {},
   "outputs": [
    {
     "data": {
      "text/html": [
       "<div>\n",
       "<style scoped>\n",
       "    .dataframe tbody tr th:only-of-type {\n",
       "        vertical-align: middle;\n",
       "    }\n",
       "\n",
       "    .dataframe tbody tr th {\n",
       "        vertical-align: top;\n",
       "    }\n",
       "\n",
       "    .dataframe thead th {\n",
       "        text-align: right;\n",
       "    }\n",
       "</style>\n",
       "<table border=\"1\" class=\"dataframe\">\n",
       "  <thead>\n",
       "    <tr style=\"text-align: right;\">\n",
       "      <th></th>\n",
       "      <th>fatalities</th>\n",
       "      <th>no_of_camps</th>\n",
       "      <th>actual_rainfall_in_mm</th>\n",
       "      <th>normal_rainfall_in_mm</th>\n",
       "      <th>no_of_landslides</th>\n",
       "      <th>full_damaged_houses</th>\n",
       "    </tr>\n",
       "  </thead>\n",
       "  <tbody>\n",
       "    <tr>\n",
       "      <th>fatalities</th>\n",
       "      <td>1.00</td>\n",
       "      <td>0.16</td>\n",
       "      <td>0.27</td>\n",
       "      <td>-0.00</td>\n",
       "      <td>0.34</td>\n",
       "      <td>0.76</td>\n",
       "    </tr>\n",
       "    <tr>\n",
       "      <th>no_of_camps</th>\n",
       "      <td>0.16</td>\n",
       "      <td>1.00</td>\n",
       "      <td>-0.09</td>\n",
       "      <td>-0.18</td>\n",
       "      <td>-0.18</td>\n",
       "      <td>0.39</td>\n",
       "    </tr>\n",
       "    <tr>\n",
       "      <th>actual_rainfall_in_mm</th>\n",
       "      <td>0.27</td>\n",
       "      <td>-0.09</td>\n",
       "      <td>1.00</td>\n",
       "      <td>0.50</td>\n",
       "      <td>0.89</td>\n",
       "      <td>0.20</td>\n",
       "    </tr>\n",
       "    <tr>\n",
       "      <th>normal_rainfall_in_mm</th>\n",
       "      <td>-0.00</td>\n",
       "      <td>-0.18</td>\n",
       "      <td>0.50</td>\n",
       "      <td>1.00</td>\n",
       "      <td>0.36</td>\n",
       "      <td>-0.02</td>\n",
       "    </tr>\n",
       "    <tr>\n",
       "      <th>no_of_landslides</th>\n",
       "      <td>0.34</td>\n",
       "      <td>-0.18</td>\n",
       "      <td>0.89</td>\n",
       "      <td>0.36</td>\n",
       "      <td>1.00</td>\n",
       "      <td>0.19</td>\n",
       "    </tr>\n",
       "    <tr>\n",
       "      <th>full_damaged_houses</th>\n",
       "      <td>0.76</td>\n",
       "      <td>0.39</td>\n",
       "      <td>0.20</td>\n",
       "      <td>-0.02</td>\n",
       "      <td>0.19</td>\n",
       "      <td>1.00</td>\n",
       "    </tr>\n",
       "  </tbody>\n",
       "</table>\n",
       "</div>"
      ],
      "text/plain": [
       "                       fatalities  no_of_camps  actual_rainfall_in_mm  \\\n",
       "fatalities                   1.00         0.16                   0.27   \n",
       "no_of_camps                  0.16         1.00                  -0.09   \n",
       "actual_rainfall_in_mm        0.27        -0.09                   1.00   \n",
       "normal_rainfall_in_mm       -0.00        -0.18                   0.50   \n",
       "no_of_landslides             0.34        -0.18                   0.89   \n",
       "full_damaged_houses          0.76         0.39                   0.20   \n",
       "\n",
       "                       normal_rainfall_in_mm  no_of_landslides  \\\n",
       "fatalities                             -0.00              0.34   \n",
       "no_of_camps                            -0.18             -0.18   \n",
       "actual_rainfall_in_mm                   0.50              0.89   \n",
       "normal_rainfall_in_mm                   1.00              0.36   \n",
       "no_of_landslides                        0.36              1.00   \n",
       "full_damaged_houses                    -0.02              0.19   \n",
       "\n",
       "                       full_damaged_houses  \n",
       "fatalities                            0.76  \n",
       "no_of_camps                           0.39  \n",
       "actual_rainfall_in_mm                 0.20  \n",
       "normal_rainfall_in_mm                -0.02  \n",
       "no_of_landslides                      0.19  \n",
       "full_damaged_houses                   1.00  "
      ]
     },
     "execution_count": 5,
     "metadata": {},
     "output_type": "execute_result"
    }
   ],
   "source": [
    "flood_corr=flood.corr().round(2)\n",
    "flood_corr"
   ]
  },
  {
   "cell_type": "code",
   "execution_count": 6,
   "id": "e0707850",
   "metadata": {},
   "outputs": [
    {
     "data": {
      "image/png": "[encoded data removed]",
      "text/plain": [
       "<Figure size 720x576 with 2 Axes>"
      ]
     },
     "metadata": {
      "needs_background": "light"
     },
     "output_type": "display_data"
    }
   ],
   "source": [
    "plt.figure(figsize=(10,8))\n",
    "plot=sn.heatmap(flood_corr,annot=True)"
   ]
  },
  {
   "cell_type": "markdown",
   "id": "51d79025",
   "metadata": {},
   "source": [
    "From the correlation matrix,the no of camps  and normal rainfall are less correlated so we can neglect these features"
   ]
  },
  {
   "cell_type": "code",
   "execution_count": 7,
   "id": "fef557d2",
   "metadata": {},
   "outputs": [
    {
     "data": {
      "text/html": [
       "<div>\n",
       "<style scoped>\n",
       "    .dataframe tbody tr th:only-of-type {\n",
       "        vertical-align: middle;\n",
       "    }\n",
       "\n",
       "    .dataframe tbody tr th {\n",
       "        vertical-align: top;\n",
       "    }\n",
       "\n",
       "    .dataframe thead th {\n",
       "        text-align: right;\n",
       "    }\n",
       "</style>\n",
       "<table border=\"1\" class=\"dataframe\">\n",
       "  <thead>\n",
       "    <tr style=\"text-align: right;\">\n",
       "      <th></th>\n",
       "      <th>fatalities</th>\n",
       "      <th>actual_rainfall_in_mm</th>\n",
       "      <th>no_of_landslides</th>\n",
       "      <th>full_damaged_houses</th>\n",
       "    </tr>\n",
       "  </thead>\n",
       "  <tbody>\n",
       "    <tr>\n",
       "      <th>0</th>\n",
       "      <td>11</td>\n",
       "      <td>373.8</td>\n",
       "      <td>0</td>\n",
       "      <td>111</td>\n",
       "    </tr>\n",
       "    <tr>\n",
       "      <th>1</th>\n",
       "      <td>5</td>\n",
       "      <td>644.1</td>\n",
       "      <td>2</td>\n",
       "      <td>95</td>\n",
       "    </tr>\n",
       "    <tr>\n",
       "      <th>2</th>\n",
       "      <td>3</td>\n",
       "      <td>764.9</td>\n",
       "      <td>8</td>\n",
       "      <td>741</td>\n",
       "    </tr>\n",
       "    <tr>\n",
       "      <th>3</th>\n",
       "      <td>43</td>\n",
       "      <td>608.2</td>\n",
       "      <td>0</td>\n",
       "      <td>2075</td>\n",
       "    </tr>\n",
       "    <tr>\n",
       "      <th>4</th>\n",
       "      <td>14</td>\n",
       "      <td>619.2</td>\n",
       "      <td>29</td>\n",
       "      <td>76</td>\n",
       "    </tr>\n",
       "    <tr>\n",
       "      <th>5</th>\n",
       "      <td>54</td>\n",
       "      <td>1478.9</td>\n",
       "      <td>143</td>\n",
       "      <td>1166</td>\n",
       "    </tr>\n",
       "    <tr>\n",
       "      <th>6</th>\n",
       "      <td>58</td>\n",
       "      <td>648.3</td>\n",
       "      <td>0</td>\n",
       "      <td>615</td>\n",
       "    </tr>\n",
       "    <tr>\n",
       "      <th>7</th>\n",
       "      <td>72</td>\n",
       "      <td>734.7</td>\n",
       "      <td>26</td>\n",
       "      <td>2889</td>\n",
       "    </tr>\n",
       "    <tr>\n",
       "      <th>8</th>\n",
       "      <td>20</td>\n",
       "      <td>848.8</td>\n",
       "      <td>20</td>\n",
       "      <td>1118</td>\n",
       "    </tr>\n",
       "    <tr>\n",
       "      <th>9</th>\n",
       "      <td>30</td>\n",
       "      <td>913.7</td>\n",
       "      <td>30</td>\n",
       "      <td>500</td>\n",
       "    </tr>\n",
       "    <tr>\n",
       "      <th>10</th>\n",
       "      <td>16</td>\n",
       "      <td>836.0</td>\n",
       "      <td>9</td>\n",
       "      <td>107</td>\n",
       "    </tr>\n",
       "    <tr>\n",
       "      <th>11</th>\n",
       "      <td>6</td>\n",
       "      <td>1053.5</td>\n",
       "      <td>47</td>\n",
       "      <td>702</td>\n",
       "    </tr>\n",
       "    <tr>\n",
       "      <th>12</th>\n",
       "      <td>6</td>\n",
       "      <td>665.3</td>\n",
       "      <td>17</td>\n",
       "      <td>121</td>\n",
       "    </tr>\n",
       "    <tr>\n",
       "      <th>13</th>\n",
       "      <td>1</td>\n",
       "      <td>636.9</td>\n",
       "      <td>0</td>\n",
       "      <td>3</td>\n",
       "    </tr>\n",
       "  </tbody>\n",
       "</table>\n",
       "</div>"
      ],
      "text/plain": [
       "    fatalities  actual_rainfall_in_mm  no_of_landslides  full_damaged_houses\n",
       "0           11                  373.8                 0                  111\n",
       "1            5                  644.1                 2                   95\n",
       "2            3                  764.9                 8                  741\n",
       "3           43                  608.2                 0                 2075\n",
       "4           14                  619.2                29                   76\n",
       "5           54                 1478.9               143                 1166\n",
       "6           58                  648.3                 0                  615\n",
       "7           72                  734.7                26                 2889\n",
       "8           20                  848.8                20                 1118\n",
       "9           30                  913.7                30                  500\n",
       "10          16                  836.0                 9                  107\n",
       "11           6                 1053.5                47                  702\n",
       "12           6                  665.3                17                  121\n",
       "13           1                  636.9                 0                    3"
      ]
     },
     "execution_count": 7,
     "metadata": {},
     "output_type": "execute_result"
    }
   ],
   "source": [
    "flood_1=flood.drop(['district','no_of_camps','normal_rainfall_in_mm'],axis='columns')\n",
    "flood_1"
   ]
  },
  {
   "cell_type": "code",
   "execution_count": 8,
   "id": "07d8340b",
   "metadata": {},
   "outputs": [
    {
     "data": {
      "image/png": "[encoded data removed]",
      "text/plain": [
       "<Figure size 720x576 with 2 Axes>"
      ]
     },
     "metadata": {
      "needs_background": "light"
     },
     "output_type": "display_data"
    }
   ],
   "source": [
    "flood_corr1=flood_1.corr().round(2)\n",
    "flood_corr1\n",
    "plt.figure(figsize=(10,8))\n",
    "plot=sn.heatmap(flood_corr1,annot=True)"
   ]
  },
  {
   "cell_type": "markdown",
   "id": "9928ddfe",
   "metadata": {},
   "source": [
    "From this we can understand that fatalities are highly correlated to the fully damaged houses.landslides are highly correlated with actual rain"
   ]
  },
  {
   "cell_type": "code",
   "execution_count": 9,
   "id": "96d4b10e",
   "metadata": {},
   "outputs": [
    {
     "data": {
      "text/plain": [
       "<seaborn.axisgrid.PairGrid at 0x1e7d5117400>"
      ]
     },
     "execution_count": 9,
     "metadata": {},
     "output_type": "execute_result"
    },
    {
     "data": {
      "image/png": "[encoded data removed]",
      "text/plain": [
       "<Figure size 720x720 with 20 Axes>"
      ]
     },
     "metadata": {
      "needs_background": "light"
     },
     "output_type": "display_data"
    }
   ],
   "source": [
    "sn.pairplot(flood_1)"
   ]
  },
  {
   "cell_type": "code",
   "execution_count": 10,
   "id": "7bc94f73",
   "metadata": {},
   "outputs": [
    {
     "data": {
      "text/html": [
       "<div>\n",
       "<style scoped>\n",
       "    .dataframe tbody tr th:only-of-type {\n",
       "        vertical-align: middle;\n",
       "    }\n",
       "\n",
       "    .dataframe tbody tr th {\n",
       "        vertical-align: top;\n",
       "    }\n",
       "\n",
       "    .dataframe thead th {\n",
       "        text-align: right;\n",
       "    }\n",
       "</style>\n",
       "<table border=\"1\" class=\"dataframe\">\n",
       "  <thead>\n",
       "    <tr style=\"text-align: right;\">\n",
       "      <th></th>\n",
       "      <th>fatalities</th>\n",
       "      <th>actual_rainfall_in_mm</th>\n",
       "      <th>no_of_landslides</th>\n",
       "      <th>full_damaged_houses</th>\n",
       "    </tr>\n",
       "  </thead>\n",
       "  <tbody>\n",
       "    <tr>\n",
       "      <th>0</th>\n",
       "      <td>11</td>\n",
       "      <td>373.8</td>\n",
       "      <td>0</td>\n",
       "      <td>111</td>\n",
       "    </tr>\n",
       "    <tr>\n",
       "      <th>1</th>\n",
       "      <td>5</td>\n",
       "      <td>644.1</td>\n",
       "      <td>2</td>\n",
       "      <td>95</td>\n",
       "    </tr>\n",
       "  </tbody>\n",
       "</table>\n",
       "</div>"
      ],
      "text/plain": [
       "   fatalities  actual_rainfall_in_mm  no_of_landslides  full_damaged_houses\n",
       "0          11                  373.8                 0                  111\n",
       "1           5                  644.1                 2                   95"
      ]
     },
     "execution_count": 10,
     "metadata": {},
     "output_type": "execute_result"
    }
   ],
   "source": [
    "flood_1.head(2)"
   ]
  },
  {
   "cell_type": "markdown",
   "id": "6aca05fb",
   "metadata": {},
   "source": [
    "### Training the model"
   ]
  },
  {
   "cell_type": "code",
   "execution_count": 11,
   "id": "4298d815",
   "metadata": {},
   "outputs": [],
   "source": [
    "from sklearn.linear_model import LinearRegression\n",
    "fatality_model=LinearRegression()\n",
    "X=flood_1.drop('fatalities',axis='columns')\n",
    "Y=flood_1[['fatalities']]\n",
    "from sklearn.model_selection import train_test_split \n",
    "x_train,x_test,y_train,y_test=train_test_split(X,Y,test_size=.1)"
   ]
  },
  {
   "cell_type": "code",
   "execution_count": 12,
   "id": "71a5a5f3",
   "metadata": {},
   "outputs": [
    {
     "data": {
      "text/plain": [
       "LinearRegression()"
      ]
     },
     "execution_count": 12,
     "metadata": {},
     "output_type": "execute_result"
    }
   ],
   "source": [
    "fatality_model.fit(x_train,y_train)"
   ]
  },
  {
   "cell_type": "code",
   "execution_count": 13,
   "id": "4250a1cb",
   "metadata": {},
   "outputs": [
    {
     "data": {
      "text/plain": [
       "-1.9877831303444071"
      ]
     },
     "execution_count": 13,
     "metadata": {},
     "output_type": "execute_result"
    }
   ],
   "source": [
    "fatality_model.score(x_test,y_test)"
   ]
  },
  {
   "cell_type": "code",
   "execution_count": 14,
   "id": "be410e20",
   "metadata": {},
   "outputs": [
    {
     "data": {
      "text/html": [
       "<div>\n",
       "<style scoped>\n",
       "    .dataframe tbody tr th:only-of-type {\n",
       "        vertical-align: middle;\n",
       "    }\n",
       "\n",
       "    .dataframe tbody tr th {\n",
       "        vertical-align: top;\n",
       "    }\n",
       "\n",
       "    .dataframe thead th {\n",
       "        text-align: right;\n",
       "    }\n",
       "</style>\n",
       "<table border=\"1\" class=\"dataframe\">\n",
       "  <thead>\n",
       "    <tr style=\"text-align: right;\">\n",
       "      <th></th>\n",
       "      <th>fatalities</th>\n",
       "    </tr>\n",
       "  </thead>\n",
       "  <tbody>\n",
       "    <tr>\n",
       "      <th>3</th>\n",
       "      <td>43</td>\n",
       "    </tr>\n",
       "    <tr>\n",
       "      <th>9</th>\n",
       "      <td>30</td>\n",
       "    </tr>\n",
       "  </tbody>\n",
       "</table>\n",
       "</div>"
      ],
      "text/plain": [
       "   fatalities\n",
       "3          43\n",
       "9          30"
      ]
     },
     "execution_count": 14,
     "metadata": {},
     "output_type": "execute_result"
    }
   ],
   "source": [
    "y_test"
   ]
  },
  {
   "cell_type": "code",
   "execution_count": 15,
   "id": "ed6cbb86",
   "metadata": {},
   "outputs": [
    {
     "data": {
      "text/plain": [
       "array([[50.82043361],\n",
       "       [16.16856867]])"
      ]
     },
     "execution_count": 15,
     "metadata": {},
     "output_type": "execute_result"
    }
   ],
   "source": [
    "fatality_model.predict(x_test)"
   ]
  },
  {
   "cell_type": "markdown",
   "id": "b090c4d4",
   "metadata": {},
   "source": [
    "Here our problem lies in the less no of data set. Now we can go for cross validation "
   ]
  },
  {
   "cell_type": "code",
   "execution_count": null,
   "id": "fcdb0e20",
   "metadata": {},
   "outputs": [],
   "source": []
  },
  {
   "cell_type": "code",
   "execution_count": 16,
   "id": "eedd2b2f",
   "metadata": {},
   "outputs": [
    {
     "data": {
      "text/plain": [
       "KMeans(n_clusters=3)"
      ]
     },
     "execution_count": 16,
     "metadata": {},
     "output_type": "execute_result"
    }
   ],
   "source": [
    "km=KMeans(n_clusters=3)\n",
    "km"
   ]
  },
  {
   "cell_type": "code",
   "execution_count": 17,
   "id": "9bd47b94",
   "metadata": {},
   "outputs": [
    {
     "data": {
      "text/plain": [
       "array([2, 2, 0, 1, 2, 0, 0, 1, 0, 0, 2, 0, 2, 2])"
      ]
     },
     "execution_count": 17,
     "metadata": {},
     "output_type": "execute_result"
    }
   ],
   "source": [
    "y_predicted=km.fit_predict(flood_1[['fatalities','no_of_landslides','full_damaged_houses','actual_rainfall_in_mm']])\n",
    "y_predicted"
   ]
  },
  {
   "cell_type": "code",
   "execution_count": 18,
   "id": "e43613a8",
   "metadata": {},
   "outputs": [
    {
     "data": {
      "text/html": [
       "<div>\n",
       "<style scoped>\n",
       "    .dataframe tbody tr th:only-of-type {\n",
       "        vertical-align: middle;\n",
       "    }\n",
       "\n",
       "    .dataframe tbody tr th {\n",
       "        vertical-align: top;\n",
       "    }\n",
       "\n",
       "    .dataframe thead th {\n",
       "        text-align: right;\n",
       "    }\n",
       "</style>\n",
       "<table border=\"1\" class=\"dataframe\">\n",
       "  <thead>\n",
       "    <tr style=\"text-align: right;\">\n",
       "      <th></th>\n",
       "      <th>fatalities</th>\n",
       "      <th>actual_rainfall_in_mm</th>\n",
       "      <th>no_of_landslides</th>\n",
       "      <th>full_damaged_houses</th>\n",
       "      <th>cluster</th>\n",
       "    </tr>\n",
       "  </thead>\n",
       "  <tbody>\n",
       "    <tr>\n",
       "      <th>0</th>\n",
       "      <td>11</td>\n",
       "      <td>373.8</td>\n",
       "      <td>0</td>\n",
       "      <td>111</td>\n",
       "      <td>2</td>\n",
       "    </tr>\n",
       "    <tr>\n",
       "      <th>1</th>\n",
       "      <td>5</td>\n",
       "      <td>644.1</td>\n",
       "      <td>2</td>\n",
       "      <td>95</td>\n",
       "      <td>2</td>\n",
       "    </tr>\n",
       "    <tr>\n",
       "      <th>2</th>\n",
       "      <td>3</td>\n",
       "      <td>764.9</td>\n",
       "      <td>8</td>\n",
       "      <td>741</td>\n",
       "      <td>0</td>\n",
       "    </tr>\n",
       "    <tr>\n",
       "      <th>3</th>\n",
       "      <td>43</td>\n",
       "      <td>608.2</td>\n",
       "      <td>0</td>\n",
       "      <td>2075</td>\n",
       "      <td>1</td>\n",
       "    </tr>\n",
       "    <tr>\n",
       "      <th>4</th>\n",
       "      <td>14</td>\n",
       "      <td>619.2</td>\n",
       "      <td>29</td>\n",
       "      <td>76</td>\n",
       "      <td>2</td>\n",
       "    </tr>\n",
       "    <tr>\n",
       "      <th>5</th>\n",
       "      <td>54</td>\n",
       "      <td>1478.9</td>\n",
       "      <td>143</td>\n",
       "      <td>1166</td>\n",
       "      <td>0</td>\n",
       "    </tr>\n",
       "    <tr>\n",
       "      <th>6</th>\n",
       "      <td>58</td>\n",
       "      <td>648.3</td>\n",
       "      <td>0</td>\n",
       "      <td>615</td>\n",
       "      <td>0</td>\n",
       "    </tr>\n",
       "    <tr>\n",
       "      <th>7</th>\n",
       "      <td>72</td>\n",
       "      <td>734.7</td>\n",
       "      <td>26</td>\n",
       "      <td>2889</td>\n",
       "      <td>1</td>\n",
       "    </tr>\n",
       "    <tr>\n",
       "      <th>8</th>\n",
       "      <td>20</td>\n",
       "      <td>848.8</td>\n",
       "      <td>20</td>\n",
       "      <td>1118</td>\n",
       "      <td>0</td>\n",
       "    </tr>\n",
       "    <tr>\n",
       "      <th>9</th>\n",
       "      <td>30</td>\n",
       "      <td>913.7</td>\n",
       "      <td>30</td>\n",
       "      <td>500</td>\n",
       "      <td>0</td>\n",
       "    </tr>\n",
       "    <tr>\n",
       "      <th>10</th>\n",
       "      <td>16</td>\n",
       "      <td>836.0</td>\n",
       "      <td>9</td>\n",
       "      <td>107</td>\n",
       "      <td>2</td>\n",
       "    </tr>\n",
       "    <tr>\n",
       "      <th>11</th>\n",
       "      <td>6</td>\n",
       "      <td>1053.5</td>\n",
       "      <td>47</td>\n",
       "      <td>702</td>\n",
       "      <td>0</td>\n",
       "    </tr>\n",
       "    <tr>\n",
       "      <th>12</th>\n",
       "      <td>6</td>\n",
       "      <td>665.3</td>\n",
       "      <td>17</td>\n",
       "      <td>121</td>\n",
       "      <td>2</td>\n",
       "    </tr>\n",
       "    <tr>\n",
       "      <th>13</th>\n",
       "      <td>1</td>\n",
       "      <td>636.9</td>\n",
       "      <td>0</td>\n",
       "      <td>3</td>\n",
       "      <td>2</td>\n",
       "    </tr>\n",
       "  </tbody>\n",
       "</table>\n",
       "</div>"
      ],
      "text/plain": [
       "    fatalities  actual_rainfall_in_mm  no_of_landslides  full_damaged_houses  \\\n",
       "0           11                  373.8                 0                  111   \n",
       "1            5                  644.1                 2                   95   \n",
       "2            3                  764.9                 8                  741   \n",
       "3           43                  608.2                 0                 2075   \n",
       "4           14                  619.2                29                   76   \n",
       "5           54                 1478.9               143                 1166   \n",
       "6           58                  648.3                 0                  615   \n",
       "7           72                  734.7                26                 2889   \n",
       "8           20                  848.8                20                 1118   \n",
       "9           30                  913.7                30                  500   \n",
       "10          16                  836.0                 9                  107   \n",
       "11           6                 1053.5                47                  702   \n",
       "12           6                  665.3                17                  121   \n",
       "13           1                  636.9                 0                    3   \n",
       "\n",
       "    cluster  \n",
       "0         2  \n",
       "1         2  \n",
       "2         0  \n",
       "3         1  \n",
       "4         2  \n",
       "5         0  \n",
       "6         0  \n",
       "7         1  \n",
       "8         0  \n",
       "9         0  \n",
       "10        2  \n",
       "11        0  \n",
       "12        2  \n",
       "13        2  "
      ]
     },
     "execution_count": 18,
     "metadata": {},
     "output_type": "execute_result"
    }
   ],
   "source": [
    "flood_1['cluster']=y_predicted\n",
    "flood_1"
   ]
  },
  {
   "cell_type": "code",
   "execution_count": 19,
   "id": "eda62431",
   "metadata": {},
   "outputs": [
    {
     "name": "stderr",
     "output_type": "stream",
     "text": [
      "D:\\python\\lib\\site-packages\\sklearn\\cluster\\_kmeans.py:881: UserWarning: KMeans is known to have a memory leak on Windows with MKL, when there are less chunks than available threads. You can avoid it by setting the environment variable OMP_NUM_THREADS=1.\n",
      "  warnings.warn(\n"
     ]
    }
   ],
   "source": [
    "k_rng=range(1,10)\n",
    "sse=[]\n",
    "for k in k_rng:\n",
    "    km=KMeans(n_clusters=k)\n",
    "    km.fit(flood_1[['fatalities','no_of_landslides','full_damaged_houses','actual_rainfall_in_mm']])\n",
    "    sse.append(km.inertia_)"
   ]
  },
  {
   "cell_type": "code",
   "execution_count": 20,
   "id": "ae1401d4",
   "metadata": {},
   "outputs": [
    {
     "data": {
      "text/plain": [
       "[10284567.789285716,\n",
       " 3153033.575,\n",
       " 1275836.7550000004,\n",
       " 774025.1186666667,\n",
       " 433967.4936666666,\n",
       " 250771.04166666666,\n",
       " 166766.54166666666,\n",
       " 87587.09999999999,\n",
       " 56320.13749999999]"
      ]
     },
     "execution_count": 20,
     "metadata": {},
     "output_type": "execute_result"
    }
   ],
   "source": [
    "sse"
   ]
  },
  {
   "cell_type": "code",
   "execution_count": 21,
   "id": "ed5708bc",
   "metadata": {},
   "outputs": [
    {
     "data": {
      "text/plain": [
       "[<matplotlib.lines.Line2D at 0x1e7d602acd0>]"
      ]
     },
     "execution_count": 21,
     "metadata": {},
     "output_type": "execute_result"
    },
    {
     "data": {
      "image/png": "[encoded data removed]",
      "text/plain": [
       "<Figure size 432x288 with 1 Axes>"
      ]
     },
     "metadata": {
      "needs_background": "light"
     },
     "output_type": "display_data"
    }
   ],
   "source": [
    "plt.xlabel('K')\n",
    "plt.ylabel('sum of squared error')\n",
    "plt.plot(k_rng,sse)"
   ]
  },
  {
   "cell_type": "code",
   "execution_count": 22,
   "id": "a88e624e",
   "metadata": {},
   "outputs": [
    {
     "name": "stderr",
     "output_type": "stream",
     "text": [
      "No handles with labels found to put in legend.\n"
     ]
    },
    {
     "data": {
      "text/plain": [
       "<matplotlib.legend.Legend at 0x1e7d60a1160>"
      ]
     },
     "execution_count": 22,
     "metadata": {},
     "output_type": "execute_result"
    },
    {
     "data": {
      "image/png": "[encoded data removed]",
      "text/plain": [
       "<Figure size 432x288 with 1 Axes>"
      ]
     },
     "metadata": {
      "needs_background": "light"
     },
     "output_type": "display_data"
    }
   ],
   "source": [
    "df1=flood_1[flood_1.cluster==0]\n",
    "df2=flood_1[flood_1.cluster==1]\n",
    "df3=flood_1[flood_1.cluster==2]\n",
    "plt.scatter(df1.actual_rainfall_in_mm,df1['no_of_landslides'],color='r')\n",
    "plt.scatter(df2.actual_rainfall_in_mm,df2['no_of_landslides'],color='m')\n",
    "plt.scatter(df3.actual_rainfall_in_mm,df3['no_of_landslides'],color='black')\n",
    "plt.xlabel('actual_rainfall_in_mm')\n",
    "plt.ylabel('no_of_landslides')\n",
    "plt.legend()"
   ]
  },
  {
   "cell_type": "code",
   "execution_count": 23,
   "id": "6a119b05",
   "metadata": {},
   "outputs": [
    {
     "name": "stderr",
     "output_type": "stream",
     "text": [
      "No handles with labels found to put in legend.\n"
     ]
    },
    {
     "data": {
      "text/plain": [
       "<matplotlib.legend.Legend at 0x1e7d6101130>"
      ]
     },
     "execution_count": 23,
     "metadata": {},
     "output_type": "execute_result"
    },
    {
     "data": {
      "image/png": "[encoded data removed]",
      "text/plain": [
       "<Figure size 432x288 with 1 Axes>"
      ]
     },
     "metadata": {
      "needs_background": "light"
     },
     "output_type": "display_data"
    }
   ],
   "source": [
    "df1=flood_1[flood_1.cluster==0]\n",
    "df2=flood_1[flood_1.cluster==1]\n",
    "df3=flood_1[flood_1.cluster==2]\n",
    "plt.scatter(df1.full_damaged_houses,df1['fatalities'],color='r')\n",
    "plt.scatter(df2.full_damaged_houses,df2['fatalities'],color='m')\n",
    "plt.scatter(df3.full_damaged_houses,df3['fatalities'],color='black')\n",
    "plt.xlabel('full_damaged_houses')\n",
    "plt.ylabel('fatalities')\n",
    "plt.legend()"
   ]
  },
  {
   "cell_type": "code",
   "execution_count": 24,
   "id": "3e73dd74",
   "metadata": {},
   "outputs": [
    {
     "data": {
      "text/html": [
       "<div>\n",
       "<style scoped>\n",
       "    .dataframe tbody tr th:only-of-type {\n",
       "        vertical-align: middle;\n",
       "    }\n",
       "\n",
       "    .dataframe tbody tr th {\n",
       "        vertical-align: top;\n",
       "    }\n",
       "\n",
       "    .dataframe thead th {\n",
       "        text-align: right;\n",
       "    }\n",
       "</style>\n",
       "<table border=\"1\" class=\"dataframe\">\n",
       "  <thead>\n",
       "    <tr style=\"text-align: right;\">\n",
       "      <th></th>\n",
       "      <th>fatalities</th>\n",
       "      <th>actual_rainfall_in_mm</th>\n",
       "      <th>no_of_landslides</th>\n",
       "      <th>full_damaged_houses</th>\n",
       "      <th>cluster</th>\n",
       "    </tr>\n",
       "  </thead>\n",
       "  <tbody>\n",
       "    <tr>\n",
       "      <th>0</th>\n",
       "      <td>-0.328296</td>\n",
       "      <td>0.000000</td>\n",
       "      <td>-0.338250</td>\n",
       "      <td>-0.237807</td>\n",
       "      <td>2</td>\n",
       "    </tr>\n",
       "    <tr>\n",
       "      <th>1</th>\n",
       "      <td>-0.333725</td>\n",
       "      <td>0.244593</td>\n",
       "      <td>-0.336440</td>\n",
       "      <td>-0.252285</td>\n",
       "      <td>2</td>\n",
       "    </tr>\n",
       "    <tr>\n",
       "      <th>2</th>\n",
       "      <td>-0.335535</td>\n",
       "      <td>0.353905</td>\n",
       "      <td>-0.331011</td>\n",
       "      <td>0.332278</td>\n",
       "      <td>0</td>\n",
       "    </tr>\n",
       "    <tr>\n",
       "      <th>3</th>\n",
       "      <td>-0.299339</td>\n",
       "      <td>0.212108</td>\n",
       "      <td>-0.338250</td>\n",
       "      <td>1.539408</td>\n",
       "      <td>1</td>\n",
       "    </tr>\n",
       "    <tr>\n",
       "      <th>4</th>\n",
       "      <td>-0.325581</td>\n",
       "      <td>0.222061</td>\n",
       "      <td>-0.312008</td>\n",
       "      <td>-0.269478</td>\n",
       "      <td>2</td>\n",
       "    </tr>\n",
       "    <tr>\n",
       "      <th>5</th>\n",
       "      <td>-0.289386</td>\n",
       "      <td>1.000000</td>\n",
       "      <td>-0.208850</td>\n",
       "      <td>0.716858</td>\n",
       "      <td>0</td>\n",
       "    </tr>\n",
       "    <tr>\n",
       "      <th>6</th>\n",
       "      <td>-0.285766</td>\n",
       "      <td>0.248394</td>\n",
       "      <td>-0.338250</td>\n",
       "      <td>0.218261</td>\n",
       "      <td>0</td>\n",
       "    </tr>\n",
       "    <tr>\n",
       "      <th>7</th>\n",
       "      <td>-0.273097</td>\n",
       "      <td>0.326577</td>\n",
       "      <td>-0.314723</td>\n",
       "      <td>2.275993</td>\n",
       "      <td>1</td>\n",
       "    </tr>\n",
       "    <tr>\n",
       "      <th>8</th>\n",
       "      <td>-0.320152</td>\n",
       "      <td>0.429825</td>\n",
       "      <td>-0.320152</td>\n",
       "      <td>0.673423</td>\n",
       "      <td>0</td>\n",
       "    </tr>\n",
       "    <tr>\n",
       "      <th>9</th>\n",
       "      <td>-0.311103</td>\n",
       "      <td>0.488553</td>\n",
       "      <td>-0.311103</td>\n",
       "      <td>0.114198</td>\n",
       "      <td>0</td>\n",
       "    </tr>\n",
       "    <tr>\n",
       "      <th>10</th>\n",
       "      <td>-0.323772</td>\n",
       "      <td>0.418243</td>\n",
       "      <td>-0.330106</td>\n",
       "      <td>-0.241426</td>\n",
       "      <td>2</td>\n",
       "    </tr>\n",
       "    <tr>\n",
       "      <th>11</th>\n",
       "      <td>-0.332821</td>\n",
       "      <td>0.615057</td>\n",
       "      <td>-0.295720</td>\n",
       "      <td>0.296987</td>\n",
       "      <td>0</td>\n",
       "    </tr>\n",
       "    <tr>\n",
       "      <th>12</th>\n",
       "      <td>-0.332821</td>\n",
       "      <td>0.263777</td>\n",
       "      <td>-0.322867</td>\n",
       "      <td>-0.228758</td>\n",
       "      <td>2</td>\n",
       "    </tr>\n",
       "    <tr>\n",
       "      <th>13</th>\n",
       "      <td>-0.337345</td>\n",
       "      <td>0.238078</td>\n",
       "      <td>-0.338250</td>\n",
       "      <td>-0.335535</td>\n",
       "      <td>2</td>\n",
       "    </tr>\n",
       "  </tbody>\n",
       "</table>\n",
       "</div>"
      ],
      "text/plain": [
       "    fatalities  actual_rainfall_in_mm  no_of_landslides  full_damaged_houses  \\\n",
       "0    -0.328296               0.000000         -0.338250            -0.237807   \n",
       "1    -0.333725               0.244593         -0.336440            -0.252285   \n",
       "2    -0.335535               0.353905         -0.331011             0.332278   \n",
       "3    -0.299339               0.212108         -0.338250             1.539408   \n",
       "4    -0.325581               0.222061         -0.312008            -0.269478   \n",
       "5    -0.289386               1.000000         -0.208850             0.716858   \n",
       "6    -0.285766               0.248394         -0.338250             0.218261   \n",
       "7    -0.273097               0.326577         -0.314723             2.275993   \n",
       "8    -0.320152               0.429825         -0.320152             0.673423   \n",
       "9    -0.311103               0.488553         -0.311103             0.114198   \n",
       "10   -0.323772               0.418243         -0.330106            -0.241426   \n",
       "11   -0.332821               0.615057         -0.295720             0.296987   \n",
       "12   -0.332821               0.263777         -0.322867            -0.228758   \n",
       "13   -0.337345               0.238078         -0.338250            -0.335535   \n",
       "\n",
       "    cluster  \n",
       "0         2  \n",
       "1         2  \n",
       "2         0  \n",
       "3         1  \n",
       "4         2  \n",
       "5         0  \n",
       "6         0  \n",
       "7         1  \n",
       "8         0  \n",
       "9         0  \n",
       "10        2  \n",
       "11        0  \n",
       "12        2  \n",
       "13        2  "
      ]
     },
     "execution_count": 24,
     "metadata": {},
     "output_type": "execute_result"
    }
   ],
   "source": [
    "scalar=MinMaxScaler()\n",
    "scalar.fit(flood_1[['fatalities']])\n",
    "scalar.fit(flood_1[['no_of_landslides']])\n",
    "scalar.fit(flood_1[['full_damaged_houses']])\n",
    "scalar.fit(flood_1[['actual_rainfall_in_mm']])\n",
    "\n",
    "flood_1['fatalities']=scalar.transform(flood_1[['fatalities']])\n",
    "flood_1['no_of_landslides']=scalar.transform(flood_1[['no_of_landslides']])\n",
    "flood_1['full_damaged_houses']=scalar.transform(flood_1[['full_damaged_houses']])\n",
    "flood_1['actual_rainfall_in_mm']=scalar.transform(flood_1[['actual_rainfall_in_mm']])\n",
    "flood_1"
   ]
  },
  {
   "cell_type": "code",
   "execution_count": 25,
   "id": "ec336e12",
   "metadata": {},
   "outputs": [
    {
     "name": "stderr",
     "output_type": "stream",
     "text": [
      "No handles with labels found to put in legend.\n"
     ]
    },
    {
     "data": {
      "text/plain": [
       "<matplotlib.legend.Legend at 0x1e7d6168eb0>"
      ]
     },
     "execution_count": 25,
     "metadata": {},
     "output_type": "execute_result"
    },
    {
     "data": {
      "image/png": "[encoded data removed]",
      "text/plain": [
       "<Figure size 432x288 with 1 Axes>"
      ]
     },
     "metadata": {
      "needs_background": "light"
     },
     "output_type": "display_data"
    }
   ],
   "source": [
    "df1=flood_1[flood_1.cluster==0]\n",
    "df2=flood_1[flood_1.cluster==1]\n",
    "df3=flood_1[flood_1.cluster==2]\n",
    "plt.scatter(df1.actual_rainfall_in_mm,df1['no_of_landslides'],color='r')\n",
    "plt.scatter(df2.actual_rainfall_in_mm,df2['no_of_landslides'],color='m')\n",
    "plt.scatter(df3.actual_rainfall_in_mm,df3['no_of_landslides'],color='black')\n",
    "plt.xlabel('actual_rainfall_in_mm')\n",
    "plt.ylabel('no_of_landslides')\n",
    "plt.legend()"
   ]
  },
  {
   "cell_type": "code",
   "execution_count": 26,
   "id": "d7a39a0b",
   "metadata": {},
   "outputs": [
    {
     "name": "stderr",
     "output_type": "stream",
     "text": [
      "No handles with labels found to put in legend.\n"
     ]
    },
    {
     "data": {
      "text/plain": [
       "<matplotlib.legend.Legend at 0x1e7d56a09a0>"
      ]
     },
     "execution_count": 26,
     "metadata": {},
     "output_type": "execute_result"
    },
    {
     "data": {
      "image/png": "[encoded data removed]",
      "text/plain": [
       "<Figure size 432x288 with 1 Axes>"
      ]
     },
     "metadata": {
      "needs_background": "light"
     },
     "output_type": "display_data"
    }
   ],
   "source": [
    "df1=flood_1[flood_1.cluster==0]\n",
    "df2=flood_1[flood_1.cluster==1]\n",
    "df3=flood_1[flood_1.cluster==2]\n",
    "plt.scatter(df1.full_damaged_houses,df1['fatalities'],color='r')\n",
    "plt.scatter(df2.full_damaged_houses,df2['fatalities'],color='m')\n",
    "plt.scatter(df3.full_damaged_houses,df3['fatalities'],color='black')\n",
    "plt.xlabel('full_damaged_houses')\n",
    "plt.ylabel('fatalities')\n",
    "plt.legend()"
   ]
  },
  {
   "cell_type": "markdown",
   "id": "f16882bd",
   "metadata": {},
   "source": [
    "### Visualisation"
   ]
  },
  {
   "cell_type": "code",
   "execution_count": 42,
   "id": "4ed6cd83",
   "metadata": {},
   "outputs": [
    {
     "data": {
      "text/plain": [
       "([<matplotlib.patches.Wedge at 0x1e7da5e81c0>,\n",
       "  <matplotlib.patches.Wedge at 0x1e7da5e8af0>,\n",
       "  <matplotlib.patches.Wedge at 0x1e7da806400>,\n",
       "  <matplotlib.patches.Wedge at 0x1e7da806cd0>,\n",
       "  <matplotlib.patches.Wedge at 0x1e7da8275e0>,\n",
       "  <matplotlib.patches.Wedge at 0x1e7da827eb0>,\n",
       "  <matplotlib.patches.Wedge at 0x1e7da9347c0>,\n",
       "  <matplotlib.patches.Wedge at 0x1e7da94e100>,\n",
       "  <matplotlib.patches.Wedge at 0x1e7da94e9d0>,\n",
       "  <matplotlib.patches.Wedge at 0x1e7da96d2e0>,\n",
       "  <matplotlib.patches.Wedge at 0x1e7d7b00d90>,\n",
       "  <matplotlib.patches.Wedge at 0x1e7da476490>,\n",
       "  <matplotlib.patches.Wedge at 0x1e7da476d60>,\n",
       "  <matplotlib.patches.Wedge at 0x1e7da47f670>],\n",
       " [Text(2.2, 0.0, 'Thiruvananthapuram'),\n",
       "  Text(2.1996036458657047, 0.04175884450390846, 'Kollam'),\n",
       "  Text(2.1857462409874238, 0.2500267385887929, 'Pathanamthitta'),\n",
       "  Text(2.1604822732469278, 0.41511004201993046, 'Alappuzha'),\n",
       "  Text(1.9663387731555833, 0.986667030555393, 'Kottayam'),\n",
       "  Text(-1.106022274383114, 1.9017662129106208, 'Idukki'),\n",
       "  Text(-2.0929685962999742, -0.6778513516266803, 'Ernakulam'),\n",
       "  Text(-1.8639824740402469, -1.1685757726697918, 'Thrissur'),\n",
       "  Text(-1.1949934288100235, -1.8471574662439756, 'Palakkad'),\n",
       "  Text(-0.2188842342312522, -2.1890842130911725, 'Malappuram'),\n",
       "  Text(0.5878686800226613, -2.12000245637792, 'Kozhikode'),\n",
       "  Text(1.5812577650788888, -1.529582910592858, 'Wayanad'),\n",
       "  Text(2.1714246466182128, -0.35343316774033984, 'Kannur'),\n",
       "  Text(2.1999999999999975, 1.0298943315351296e-07, 'Kasaragode')],\n",
       " [Text(1.2, 0.0, '0.0%'),\n",
       "  Text(1.1997838068358386, 0.02277755154758643, '0.6%'),\n",
       "  Text(1.1922252223567764, 0.13637822104843245, '2.4%'),\n",
       "  Text(1.1784448763165059, 0.2264236592835984, '0.0%'),\n",
       "  Text(1.072548421721227, 0.538182016666578, '8.8%'),\n",
       "  Text(-0.6032848769362439, 1.0373270252239748, '43.2%'),\n",
       "  Text(-1.1416192343454403, -0.3697371008872801, '0.0%'),\n",
       "  Text(-1.0167177131128617, -0.6374049669107954, '7.9%'),\n",
       "  Text(-0.6518145975327401, -1.0075404361330775, '6.0%'),\n",
       "  Text(-0.1193914004897739, -1.1940459344133667, '9.1%'),\n",
       "  Text(0.32065564364872434, -1.156364976206138, '2.7%'),\n",
       "  Text(0.8625042354975756, -0.8343179512324679, '14.2%'),\n",
       "  Text(1.184413443609934, -0.19278172785836717, '5.1%'),\n",
       "  Text(1.1999999999999986, 5.61760544473707e-08, '0.0%')])"
      ]
     },
     "execution_count": 42,
     "metadata": {},
     "output_type": "execute_result"
    },
    {
     "data": {
      "image/png": "[encoded data removed]",
      "text/plain": [
       "<Figure size 432x288 with 1 Axes>"
      ]
     },
     "metadata": {},
     "output_type": "display_data"
    }
   ],
   "source": [
    "plt.pie(flood.no_of_landslides,shadow=True,labels=flood.district, radius=2,autopct='%1.1f%%')"
   ]
  },
  {
   "cell_type": "code",
   "execution_count": null,
   "id": "79e5e56b",
   "metadata": {},
   "outputs": [],
   "source": []
  }
 ],
 "metadata": {
  "kernelspec": {
   "display_name": "Python 3",
   "language": "python",
   "name": "python3"
  },
  "language_info": {
   "codemirror_mode": {
    "name": "ipython",
    "version": 3
   },
   "file_extension": ".py",
   "mimetype": "text/x-python",
   "name": "python",
   "nbconvert_exporter": "python",
   "pygments_lexer": "ipython3",
   "version": "3.8.8"
  }
 },
 "nbformat": 4,
 "nbformat_minor": 5
}
